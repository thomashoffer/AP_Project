{
 "cells": [
  {
   "cell_type": "code",
   "execution_count": 1,
   "id": "8aa346b5-f617-4c12-9b3c-6b05a49ce691",
   "metadata": {
    "execution": {
     "iopub.execute_input": "2024-05-22T09:53:36.049572Z",
     "iopub.status.busy": "2024-05-22T09:53:36.048727Z",
     "iopub.status.idle": "2024-05-22T09:53:36.057029Z",
     "shell.execute_reply": "2024-05-22T09:53:36.056355Z",
     "shell.execute_reply.started": "2024-05-22T09:53:36.049532Z"
    },
    "tags": []
   },
   "outputs": [
    {
     "name": "stdout",
     "output_type": "stream",
     "text": [
      "hello\n"
     ]
    }
   ],
   "source": [
    "print('hello')"
   ]
  },
  {
   "cell_type": "code",
   "execution_count": 4,
   "id": "eec6b14e-64ee-42fa-bb0f-5fcec90ad2b5",
   "metadata": {
    "execution": {
     "iopub.execute_input": "2024-05-22T09:57:51.584474Z",
     "iopub.status.busy": "2024-05-22T09:57:51.584039Z",
     "iopub.status.idle": "2024-05-22T09:57:51.598401Z",
     "shell.execute_reply": "2024-05-22T09:57:51.597458Z",
     "shell.execute_reply.started": "2024-05-22T09:57:51.584434Z"
    },
    "tags": []
   },
   "outputs": [
    {
     "name": "stdout",
     "output_type": "stream",
     "text": [
      "ID: 1, Sex: Female, Pension Amount: 27802.84\n",
      "ID: 2, Sex: Female, Pension Amount: 36588.32\n",
      "ID: 3, Sex: Male, Pension Amount: 71609.94\n",
      "ID: 4, Sex: Male, Pension Amount: 80375.06\n",
      "ID: 5, Sex: Male, Pension Amount: 53636.18\n",
      "ID: 6, Sex: Male, Pension Amount: 24046.23\n",
      "ID: 7, Sex: Female, Pension Amount: 54950.53\n",
      "ID: 8, Sex: Male, Pension Amount: 26617.97\n",
      "ID: 9, Sex: Male, Pension Amount: 84384.19\n",
      "ID: 10, Sex: Female, Pension Amount: 35124.48\n"
     ]
    }
   ],
   "source": [
    "#Creating a database for the pensioners\n",
    "\n",
    "#Import needed packages\n",
    "\n",
    "import pandas as pd\n",
    "import numpy as np\n",
    "import random\n",
    "from datetime import datetime, timedelta\n",
    "\n",
    "#ensure reproducibility\n",
    "random.seed(1)\n",
    "\n",
    "#number of pensioners :\n",
    "num_pens = 1000\n",
    "\n",
    "#We need to create empty lists for each characteristic of each pensioners\n",
    "pens_id = []\n",
    "pens_sex = []\n",
    "pens_bdate = []\n",
    "pens_amount = []\n",
    "\n",
    "#Current time\n",
    "#today = datetime.today() may change stlightly my results if i run it in a week\n",
    "#So I keep a fix date\n",
    "\n",
    "today = datetime(2024, 5, 22)\n",
    "\n",
    "#Loop num_pens times to create the data base\n",
    "\n",
    "for i in range(1, num_pens+1):\n",
    "    #ID\n",
    "    pens_id.append(i)\n",
    "    #Sex\n",
    "    sex = random.choice([\"Male\",\"Female\"])\n",
    "    pens_sex.append(sex)\n",
    "    #Birth date\n",
    "    age = int(random.triangular(65, 100, 75)) #mode at 75 to have less people towards 90-100yo\n",
    "    bdate = today - timedelta(days=365*age + random.randint(0,365))\n",
    "    pens_bdate.append(bdate.strftime(\"%Y-%m-%d\"))\n",
    "    #Pension Amount\n",
    "    if sex == \"Male\":\n",
    "        pension_amount = np.random.lognormal(mean=10.748, sigma=0.5)\n",
    "    else :\n",
    "        pension_amount = np.random.lognormal(mean=10.35, sigma=0.5)\n",
    "    pens_amount.append(pension_amount)\n",
    "    \n",
    "    \n",
    "    \n",
    "#print to check\n",
    "for i in range(10):\n",
    "     print(f\"ID: {pens_id[i]}, Sex: {pens_sex[i]}, Date of Birth: {pens_bdate[i]}, Pension Amount: {pens_amount[i]:.2f}\")\n"
   ]
  },
  {
   "cell_type": "code",
   "execution_count": 5,
   "id": "f25792cd-0eec-4485-9ee6-d369e4ed56c8",
   "metadata": {
    "execution": {
     "iopub.execute_input": "2024-05-22T10:13:18.234088Z",
     "iopub.status.busy": "2024-05-22T10:13:18.233304Z",
     "iopub.status.idle": "2024-05-22T10:13:18.238757Z",
     "shell.execute_reply": "2024-05-22T10:13:18.237966Z",
     "shell.execute_reply.started": "2024-05-22T10:13:18.234053Z"
    },
    "tags": []
   },
   "outputs": [
    {
     "name": "stdout",
     "output_type": "stream",
     "text": [
      "[79.67396156767362, 73.58210052463137, 77.47224158027053, 86.07377235975022, 77.75497723365585, 73.86221750836633, 72.393276235037, 86.86138778696277, 91.29282934473578, 70.39101476815013, 79.5834871063978, 78.0136670853794, 84.23319780831953, 87.55210748660319, 79.35888436851947, 80.75218483215765, 85.80041594586653, 87.58788459952365, 74.73652638072356, 87.88979075111867, 86.31895144834519, 79.51356279612042, 91.43323342150838, 79.37922367919545, 86.99997188384219, 79.94032814542781, 72.5139234812421, 75.16051663497856, 70.33031486369086, 69.60030806556965, 76.86125964938827, 76.2758249960857, 78.90124329526527, 87.04822185357408, 82.05552901636774, 75.89561843080338, 80.65849971084123, 78.3360673654629, 77.60571716830303, 75.16768759800422, 79.4355245062792, 88.72010071903111, 69.77475222368466, 79.88415584614849, 89.14584046158868, 85.32673203092921, 71.72926133300412, 73.51899898362649, 73.67562451139926, 70.91923081807634, 76.1460787252839, 79.06011401743956, 96.75365676227379, 83.90372876801216, 79.33200179384092, 89.8903919855959, 69.25690117162536, 93.91598199263267, 88.80582933503104, 72.13191802463551, 84.75730899001518, 86.28964724963788, 70.79611544924764, 71.99942512167063, 90.2629944740716, 98.34578096067247, 71.39882280919214, 74.68844884691691, 70.13878183565394, 74.1547666737573, 80.70110534805883, 77.38020033593013, 78.73653463738194, 78.10309628440635, 92.2986835743842, 65.64904651666276, 80.0026898044181, 71.46022040234062, 69.52652863951616, 80.99927526431263, 85.95121411650128, 78.87881251243046, 75.95608354032328, 73.16846051753038, 91.98150628876797, 79.06720947029712, 65.37726262302537, 70.3624361598914, 72.08541657795061, 77.01494147302071, 80.21575545680004, 78.47861020182444, 69.61882147924247, 72.17801053589855, 83.19099169132991, 88.52884950691629, 86.21294468195032, 84.63593046062901, 93.86746442861235, 86.05836893552289]\n"
     ]
    }
   ],
   "source": [
    "import random\n",
    "testage = []\n",
    "for i in range(100):\n",
    "    age = random.triangular(65, 100, 75)\n",
    "    testage.append(age)\n",
    "print(testage)"
   ]
  },
  {
   "cell_type": "code",
   "execution_count": null,
   "id": "1bce47d0-f79d-4b43-beb0-a358d7dd1b90",
   "metadata": {},
   "outputs": [],
   "source": [
    "#https://onlinelibrary.wiley.com/doi/10.1111/j.1475-4991.2011.00478.x\n",
    "\n",
    "#Ideally i would need real data from pension fund \n",
    "#Too hard to get data on pensions, Assumption : pension is a share of income\n",
    "\n",
    "#Another way would be to fit a distribution from empirical data and generate from the distribution \n",
    "#could use the package scipy.stats -> fitting with MLE\n",
    "\n",
    "import numpy as np\n",
    "from scipy.stats import gamma\n",
    "\n",
    "shape, loc, scale = gamma.fit(data)\n",
    "\n",
    "print(\"Shape (k):\", shape)\n",
    "print(\"Location (θ):\", loc)\n",
    "print(\"Scale (β):\", scale)\n",
    "\n",
    "from scipy.stats import lognorm\n",
    "\n",
    "sigma, mu, _ = lognorm.fit(data, floc=0)\n",
    "\n",
    "print(\"Standard deviation (σ):\", sigma)\n",
    "print(\"Mean (μ):\", np.exp(mu))\n",
    "\n",
    "#weibull_min.fit(data)\n",
    "#pareto.fit(data)\n",
    "\n",
    "#compare the function you get with histogram of the data, QQ plots and criterion like the AIC or BIC to determine the best model\n",
    "#Other tests like Kolmogorov-Smirnov are easy to implement\n",
    "\n",
    "#As mentioned in scientific litterature lognormal is often used to describe income\n",
    "#If i consider that pension amount is a share of income knowing if X~lognormal\n",
    "#Then alpha*X~lognormal (add parameters online)\n",
    "\n",
    "#For male 52735 -> meanlog = 10.748, sdlog = 0.5\n",
    "#For female 35422 -> meanlog = 10.35, sdlog = 0.5\n",
    "#https://www.bfs.admin.ch/bfs/en/home/statistics/economic-social-situation-population/gender-equality/income/pension-gap.html#:~:text=In%202021%2C%20the%20average%20pension,this%20value%20has%20hardly%20changed.\n",
    "\n",
    "\n",
    "\n",
    "\n"
   ]
  }
 ],
 "metadata": {
  "kernelspec": {
   "display_name": "Python 3 (ipykernel)",
   "language": "python",
   "name": "python3"
  },
  "language_info": {
   "codemirror_mode": {
    "name": "ipython",
    "version": 3
   },
   "file_extension": ".py",
   "mimetype": "text/x-python",
   "name": "python",
   "nbconvert_exporter": "python",
   "pygments_lexer": "ipython3",
   "version": "3.8.13"
  }
 },
 "nbformat": 4,
 "nbformat_minor": 5
}
