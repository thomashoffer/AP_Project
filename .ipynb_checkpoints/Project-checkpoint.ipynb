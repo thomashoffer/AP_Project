{
 "cells": [
  {
   "cell_type": "code",
   "execution_count": 7,
   "id": "8aa346b5-f617-4c12-9b3c-6b05a49ce691",
   "metadata": {
    "execution": {
     "iopub.execute_input": "2024-05-22T10:27:33.896672Z",
     "iopub.status.busy": "2024-05-22T10:27:33.895910Z",
     "iopub.status.idle": "2024-05-22T10:27:33.900358Z",
     "shell.execute_reply": "2024-05-22T10:27:33.899651Z",
     "shell.execute_reply.started": "2024-05-22T10:27:33.896639Z"
    },
    "tags": []
   },
   "outputs": [
    {
     "name": "stdout",
     "output_type": "stream",
     "text": [
      "hello\n"
     ]
    }
   ],
   "source": [
    "print('hello')"
   ]
  },
  {
   "cell_type": "code",
   "execution_count": 8,
   "id": "eec6b14e-64ee-42fa-bb0f-5fcec90ad2b5",
   "metadata": {
    "execution": {
     "iopub.execute_input": "2024-05-22T10:27:34.357197Z",
     "iopub.status.busy": "2024-05-22T10:27:34.356424Z",
     "iopub.status.idle": "2024-05-22T10:27:34.376056Z",
     "shell.execute_reply": "2024-05-22T10:27:34.375407Z",
     "shell.execute_reply.started": "2024-05-22T10:27:34.357163Z"
    },
    "tags": []
   },
   "outputs": [
    {
     "name": "stdout",
     "output_type": "stream",
     "text": [
      "ID: 1, Sex: Male, Date of Birth: 1944-05-10, Pension Amount: 107526.50\n",
      "ID: 2, Sex: Female, Date of Birth: 1952-10-22, Pension Amount: 17500.13\n",
      "ID: 3, Sex: Female, Date of Birth: 1942-02-25, Pension Amount: 66274.87\n",
      "ID: 4, Sex: Male, Date of Birth: 1945-11-24, Pension Amount: 66776.07\n",
      "ID: 5, Sex: Female, Date of Birth: 1943-06-11, Pension Amount: 35674.98\n",
      "ID: 6, Sex: Female, Date of Birth: 1950-02-13, Pension Amount: 55980.46\n",
      "ID: 7, Sex: Male, Date of Birth: 1934-05-30, Pension Amount: 65277.08\n",
      "ID: 8, Sex: Male, Date of Birth: 1956-09-04, Pension Amount: 20580.75\n",
      "ID: 9, Sex: Male, Date of Birth: 1931-12-02, Pension Amount: 128107.45\n",
      "ID: 10, Sex: Male, Date of Birth: 1930-06-01, Pension Amount: 20428.82\n"
     ]
    }
   ],
   "source": [
    "#Creating a database for the pensioners\n",
    "\n",
    "#Import needed packages\n",
    "\n",
    "import pandas as pd\n",
    "import numpy as np\n",
    "import random\n",
    "from datetime import datetime, timedelta\n",
    "\n",
    "#ensure reproducibility\n",
    "random.seed(1)\n",
    "\n",
    "#number of pensioners :\n",
    "num_pens = 1000\n",
    "\n",
    "#We need to create empty lists for each characteristic of each pensioners\n",
    "pens_id = []\n",
    "pens_sex = []\n",
    "pens_bdate = []\n",
    "pens_amount = []\n",
    "\n",
    "#Current time\n",
    "#today = datetime.today() may change stlightly my results if i run it in a week\n",
    "#So I keep a fix date\n",
    "\n",
    "today = datetime(2024, 5, 22)\n",
    "\n",
    "#Loop num_pens times to create the data base\n",
    "\n",
    "for i in range(1, num_pens+1):\n",
    "    #ID\n",
    "    pens_id.append(i)\n",
    "    #Sex\n",
    "    sex = random.choice([\"Male\",\"Female\"])\n",
    "    pens_sex.append(sex)\n",
    "    #Birth date\n",
    "    age = int(random.triangular(65, 100, 75)) #mode at 75 to have less people towards 90-100yo\n",
    "    bdate = today - timedelta(days=365*age + random.randint(0,365))\n",
    "    pens_bdate.append(bdate.strftime(\"%Y-%m-%d\"))\n",
    "    #Pension Amount\n",
    "    if sex == \"Male\":\n",
    "        pension_amount = np.random.lognormal(mean=10.748, sigma=0.5)\n",
    "    else :\n",
    "        pension_amount = np.random.lognormal(mean=10.35, sigma=0.5)\n",
    "    pens_amount.append(pension_amount)\n",
    "    \n",
    "    \n",
    "    \n",
    "#print to check\n",
    "for i in range(10):\n",
    "     print(f\"ID: {pens_id[i]}, Sex: {pens_sex[i]}, Date of Birth: {pens_bdate[i]}, Pension Amount: {pens_amount[i]:.2f}\")\n"
   ]
  },
  {
   "cell_type": "code",
   "execution_count": 9,
   "id": "f25792cd-0eec-4485-9ee6-d369e4ed56c8",
   "metadata": {
    "execution": {
     "iopub.execute_input": "2024-05-22T10:27:34.892148Z",
     "iopub.status.busy": "2024-05-22T10:27:34.891584Z",
     "iopub.status.idle": "2024-05-22T10:27:34.896962Z",
     "shell.execute_reply": "2024-05-22T10:27:34.896203Z",
     "shell.execute_reply.started": "2024-05-22T10:27:34.892113Z"
    },
    "tags": []
   },
   "outputs": [
    {
     "name": "stdout",
     "output_type": "stream",
     "text": [
      "[76.64390445458028, 74.16780627187217, 79.98525678655074, 87.17350759264697, 84.25021743260683, 79.74451905256373, 74.62580410622843, 88.62848373303744, 70.03661025219913, 84.04305167250189, 76.89352940023468, 74.61196079536347, 85.81390062800854, 81.0109115731376, 78.88881609316773, 72.46813004868383, 78.74174005475695, 73.76715812910282, 71.286886789297, 69.45812856955851, 69.88432897531446, 78.43339491449504, 84.61661225114669, 78.43066609517804, 67.95707127162854, 74.7470495630445, 79.70529921882243, 90.15288176865263, 82.29207544265519, 76.25733045893763, 77.82125064592589, 75.94815480606502, 75.58001889663352, 76.74994558860338, 82.59437602448946, 75.07580204391857, 73.95727535657856, 84.50737330126104, 80.40147863856389, 97.0266360123634, 77.6940927856583, 90.8843069574302, 85.07484821686307, 80.99228380277381, 73.08221885975912, 88.8144257384908, 75.79349492308353, 76.18232914892114, 76.64217140440653, 82.0360379313862, 86.54485707500118, 75.5701756055603, 90.77294607459069, 72.87327284305688, 85.63370584197929, 91.34674682450446, 81.88981812501119, 79.75264517795736, 78.61313941050363, 83.91933350983297, 76.30739452734447, 79.66505363298734, 81.916949360925, 72.51917886308055, 73.43555456916161, 72.75222784049188, 85.18769026906013, 82.41869390448667, 77.5840358979043, 76.16715397715663, 86.12821911065451, 79.76872836456026, 67.9202429538667, 74.33145573290778, 73.64387723065713, 77.01484772581938, 79.29702615173895, 74.77039908983913, 81.21341060903475, 75.93151591290604, 78.70966620484045, 75.98117121592696, 81.11012013044402, 69.37963948328664, 71.98120227707021, 88.45543974397033, 84.99993774709576, 93.2355191238708, 70.6384396287895, 69.7748921595839, 73.01083484346383, 73.24525452996394, 78.27433739470924, 84.17021769309598, 79.32004952344292, 83.749344053036, 88.93049149559218, 83.30171587274978, 80.30736069476447, 89.29494103174777]\n"
     ]
    }
   ],
   "source": [
    "import random\n",
    "testage = []\n",
    "for i in range(100):\n",
    "    age = random.triangular(65, 100, 75)\n",
    "    testage.append(age)\n",
    "print(testage)"
   ]
  },
  {
   "cell_type": "code",
   "execution_count": 10,
   "id": "1bce47d0-f79d-4b43-beb0-a358d7dd1b90",
   "metadata": {
    "execution": {
     "iopub.execute_input": "2024-05-22T10:27:35.561239Z",
     "iopub.status.busy": "2024-05-22T10:27:35.560390Z",
     "iopub.status.idle": "2024-05-22T10:27:35.925923Z",
     "shell.execute_reply": "2024-05-22T10:27:35.924917Z",
     "shell.execute_reply.started": "2024-05-22T10:27:35.561200Z"
    }
   },
   "outputs": [
    {
     "ename": "NameError",
     "evalue": "name 'data' is not defined",
     "output_type": "error",
     "traceback": [
      "\u001b[0;31m---------------------------------------------------------------------------\u001b[0m",
      "\u001b[0;31mNameError\u001b[0m                                 Traceback (most recent call last)",
      "Input \u001b[0;32mIn [10]\u001b[0m, in \u001b[0;36m<cell line: 12>\u001b[0;34m()\u001b[0m\n\u001b[1;32m      9\u001b[0m \u001b[38;5;28;01mimport\u001b[39;00m \u001b[38;5;21;01mnumpy\u001b[39;00m \u001b[38;5;28;01mas\u001b[39;00m \u001b[38;5;21;01mnp\u001b[39;00m\n\u001b[1;32m     10\u001b[0m \u001b[38;5;28;01mfrom\u001b[39;00m \u001b[38;5;21;01mscipy\u001b[39;00m\u001b[38;5;21;01m.\u001b[39;00m\u001b[38;5;21;01mstats\u001b[39;00m \u001b[38;5;28;01mimport\u001b[39;00m gamma\n\u001b[0;32m---> 12\u001b[0m shape, loc, scale \u001b[38;5;241m=\u001b[39m gamma\u001b[38;5;241m.\u001b[39mfit(\u001b[43mdata\u001b[49m)\n\u001b[1;32m     14\u001b[0m \u001b[38;5;28mprint\u001b[39m(\u001b[38;5;124m\"\u001b[39m\u001b[38;5;124mShape (k):\u001b[39m\u001b[38;5;124m\"\u001b[39m, shape)\n\u001b[1;32m     15\u001b[0m \u001b[38;5;28mprint\u001b[39m(\u001b[38;5;124m\"\u001b[39m\u001b[38;5;124mLocation (θ):\u001b[39m\u001b[38;5;124m\"\u001b[39m, loc)\n",
      "\u001b[0;31mNameError\u001b[0m: name 'data' is not defined"
     ]
    }
   ],
   "source": [
    "#https://onlinelibrary.wiley.com/doi/10.1111/j.1475-4991.2011.00478.x\n",
    "\n",
    "#Ideally i would need real data from pension fund \n",
    "#Too hard to get data on pensions, Assumption : pension is a share of income\n",
    "\n",
    "#Another way would be to fit a distribution from empirical data and generate from the distribution \n",
    "#could use the package scipy.stats -> fitting with MLE\n",
    "\n",
    "import numpy as np\n",
    "from scipy.stats import gamma\n",
    "\n",
    "shape, loc, scale = gamma.fit(data)\n",
    "\n",
    "print(\"Shape (k):\", shape)\n",
    "print(\"Location (θ):\", loc)\n",
    "print(\"Scale (β):\", scale)\n",
    "\n",
    "from scipy.stats import lognorm\n",
    "\n",
    "sigma, mu, _ = lognorm.fit(data, floc=0)\n",
    "\n",
    "print(\"Standard deviation (σ):\", sigma)\n",
    "print(\"Mean (μ):\", np.exp(mu))\n",
    "\n",
    "#weibull_min.fit(data)\n",
    "#pareto.fit(data)\n",
    "\n",
    "#compare the function you get with histogram of the data, QQ plots and criterion like the AIC or BIC to determine the best model\n",
    "#Other tests like Kolmogorov-Smirnov are easy to implement\n",
    "\n",
    "#As mentioned in scientific litterature lognormal is often used to describe income\n",
    "#If i consider that pension amount is a share of income knowing if X~lognormal\n",
    "#Then alpha*X~lognormal (add parameters online)\n",
    "\n",
    "#For male 52735 -> meanlog = 10.748, sdlog = 0.5\n",
    "#For female 35422 -> meanlog = 10.35, sdlog = 0.5\n",
    "#https://www.bfs.admin.ch/bfs/en/home/statistics/economic-social-situation-population/gender-equality/income/pension-gap.html#:~:text=In%202021%2C%20the%20average%20pension,this%20value%20has%20hardly%20changed.\n",
    "\n",
    "\n",
    "\n",
    "\n"
   ]
  },
  {
   "cell_type": "code",
   "execution_count": null,
   "id": "604331d8-5a3a-4520-a444-49aa1d2e254a",
   "metadata": {},
   "outputs": [],
   "source": []
  }
 ],
 "metadata": {
  "kernelspec": {
   "display_name": "Python 3 (ipykernel)",
   "language": "python",
   "name": "python3"
  },
  "language_info": {
   "codemirror_mode": {
    "name": "ipython",
    "version": 3
   },
   "file_extension": ".py",
   "mimetype": "text/x-python",
   "name": "python",
   "nbconvert_exporter": "python",
   "pygments_lexer": "ipython3",
   "version": "3.8.13"
  }
 },
 "nbformat": 4,
 "nbformat_minor": 5
}
